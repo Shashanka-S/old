{
 "cells": [
  {
   "cell_type": "code",
   "execution_count": 2,
   "id": "e2c9db1b",
   "metadata": {},
   "outputs": [],
   "source": [
    "# Approach 1:\n",
    " \n",
    "def factorial(num):                                  #defining the function\n",
    "    \n",
    "    if (num < 0) or (type(num) != int):              #Restricting entry of negative numbers\n",
    "        print(\"Please enter a positive integer\")\n",
    "        \n",
    "    elif (num == 0) or (num == 1):                  #Factorial of 0 is 1 and factorial for 1 is 1\n",
    "        return 1\n",
    "        \n",
    "    else:\n",
    "        return (num * factorial(num-1))             #Using recursive logic"
   ]
  },
  {
   "cell_type": "code",
   "execution_count": 3,
   "id": "387cfa0e",
   "metadata": {},
   "outputs": [
    {
     "data": {
      "text/plain": [
       "120"
      ]
     },
     "execution_count": 3,
     "metadata": {},
     "output_type": "execute_result"
    }
   ],
   "source": [
    "factorial(5)                                        #Calling the function"
   ]
  },
  {
   "cell_type": "code",
   "execution_count": 4,
   "id": "c115262e",
   "metadata": {},
   "outputs": [
    {
     "name": "stdout",
     "output_type": "stream",
     "text": [
      "Enter a positive number 5\n",
      "Factorial of  5  =  120\n"
     ]
    }
   ],
   "source": [
    "# Approach 2: Taking inputs from user\n",
    "\n",
    "num = int(input(\"Enter a positive number \"))\n",
    "\n",
    "if (num < 0) or (type(num) != int):                 #Restricting entry of negative numbers\n",
    "        print(\"Please enter a positive integer\")\n",
    "        \n",
    "elif (num == 0) or (num == 1):                      #Factorial of 0 is 1 and factorial for 1 is 1\n",
    "    print(\"Factorial of given number is \", 1)\n",
    "        \n",
    "else:\n",
    "    factorial = 1\n",
    "    for i in range(1,num+1):                        #Conventional method using for loop\n",
    "        factorial *= i \n",
    "        \n",
    "print(\"Factorial of \",num,\" = \", factorial)"
   ]
  }
 ],
 "metadata": {
  "kernelspec": {
   "display_name": "Python 3",
   "language": "python",
   "name": "python3"
  },
  "language_info": {
   "codemirror_mode": {
    "name": "ipython",
    "version": 3
   },
   "file_extension": ".py",
   "mimetype": "text/x-python",
   "name": "python",
   "nbconvert_exporter": "python",
   "pygments_lexer": "ipython3",
   "version": "3.8.8"
  }
 },
 "nbformat": 4,
 "nbformat_minor": 5
}
