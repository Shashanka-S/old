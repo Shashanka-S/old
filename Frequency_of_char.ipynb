{
 "cells": [
  {
   "cell_type": "code",
   "execution_count": 11,
   "id": "2f5af46c",
   "metadata": {},
   "outputs": [],
   "source": [
    "#Approach 1:\n",
    "\n",
    "def freq_char(string,character):                           #defining the function\n",
    "    \n",
    "    count = 0                                              #initializing a variable\n",
    "    \n",
    "    for i in range(len(string)):                           #loop to count number of repetitions\n",
    "        if(string[i] == character):\n",
    "            count += 1\n",
    "            \n",
    "    print(\"The frequency of the\",character,\"in\",string ,\"is:\",count)"
   ]
  },
  {
   "cell_type": "code",
   "execution_count": 12,
   "id": "a323bcd2",
   "metadata": {},
   "outputs": [
    {
     "name": "stdout",
     "output_type": "stream",
     "text": [
      "The frequency of the s in Mississippi is: 4\n"
     ]
    }
   ],
   "source": [
    "freq_char('Mississippi','s')                               #calling the function"
   ]
  },
  {
   "cell_type": "code",
   "execution_count": 15,
   "id": "c51c2ade",
   "metadata": {},
   "outputs": [
    {
     "name": "stdout",
     "output_type": "stream",
     "text": [
      "Enter a string: Shashanka\n",
      "Enter a character from this string: a\n",
      "The frequency of the a in Shashanka is: 3\n"
     ]
    }
   ],
   "source": [
    "#Approach 2: Taking inputs from user\n",
    "\n",
    "string = str(input(\"Enter a string: \"))                  \n",
    "character = str(input(\"Enter a character from this string: \"))\n",
    "\n",
    "count = 0                                                   #initializing a variable\n",
    "    \n",
    "for i in range(len(string)):                                #loop to count number of repetitions\n",
    "    if(string[i] == character):\n",
    "        count += 1\n",
    "            \n",
    "print(\"The frequency of the\",character,\"in\",string ,\"is:\",count)"
   ]
  }
 ],
 "metadata": {
  "kernelspec": {
   "display_name": "Python 3",
   "language": "python",
   "name": "python3"
  },
  "language_info": {
   "codemirror_mode": {
    "name": "ipython",
    "version": 3
   },
   "file_extension": ".py",
   "mimetype": "text/x-python",
   "name": "python",
   "nbconvert_exporter": "python",
   "pygments_lexer": "ipython3",
   "version": "3.8.8"
  }
 },
 "nbformat": 4,
 "nbformat_minor": 5
}
