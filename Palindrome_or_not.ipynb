{
 "cells": [
  {
   "cell_type": "code",
   "execution_count": 1,
   "id": "e382440d",
   "metadata": {},
   "outputs": [],
   "source": [
    "#Approach 1:\n",
    "\n",
    "def palindrome_or_not(word):                       #defining the function\n",
    "    \n",
    "    if (word == word[::-1]):                       #comparing by reversing or mirror\n",
    "        print(\"Yes given word is palindrome\")\n",
    "        \n",
    "    else:\n",
    "        print(\"Not a palindrome\")"
   ]
  },
  {
   "cell_type": "code",
   "execution_count": 4,
   "id": "6bbc8342",
   "metadata": {},
   "outputs": [
    {
     "name": "stdout",
     "output_type": "stream",
     "text": [
      "Yes given word is palindrome\n"
     ]
    }
   ],
   "source": [
    "palindrome_or_not('MALAYALAM')                    #Calling the function"
   ]
  },
  {
   "cell_type": "code",
   "execution_count": 3,
   "id": "ba2e7b35",
   "metadata": {},
   "outputs": [
    {
     "name": "stdout",
     "output_type": "stream",
     "text": [
      "Enter a word RAMAR\n",
      "Yes given word is palindrome\n"
     ]
    }
   ],
   "source": [
    "#Approach 2: Taking input from user\n",
    "\n",
    "word = str(input(\"Enter a word \"))\n",
    "\n",
    "if (word == word[::-1]):                          #comparing by reversing or mirror\n",
    "    print(\"Yes given word is palindrome\")\n",
    "        \n",
    "else:\n",
    "    print(\"Not a palindrome\")"
   ]
  }
 ],
 "metadata": {
  "kernelspec": {
   "display_name": "Python 3",
   "language": "python",
   "name": "python3"
  },
  "language_info": {
   "codemirror_mode": {
    "name": "ipython",
    "version": 3
   },
   "file_extension": ".py",
   "mimetype": "text/x-python",
   "name": "python",
   "nbconvert_exporter": "python",
   "pygments_lexer": "ipython3",
   "version": "3.8.8"
  }
 },
 "nbformat": 4,
 "nbformat_minor": 5
}
