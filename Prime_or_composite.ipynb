{
 "cells": [
  {
   "cell_type": "code",
   "execution_count": 2,
   "id": "d126fce0",
   "metadata": {},
   "outputs": [],
   "source": [
    "#Approach 1:\n",
    "\n",
    "def Prime_or_composite(num):                            #defining the function\n",
    "    \n",
    "    if (num < 0) or (type(num) != int):                 #Restricting entry of negative numbers and non integer values\n",
    "        print(\"Please enter a positive integer\")\n",
    "        \n",
    "    elif (num == 0) or (num == 1): \n",
    "        print(\"The number is neither prime nor composite\")\n",
    "        \n",
    "    else:\n",
    "        for i in range (2,num):                        #i taking values from 2 to num-1\n",
    "            if num%i == 0:                             # modulus function will fetch remainder as 0 if divisible\n",
    "                print(\"Number is composite\")\n",
    "                break;\n",
    "        else:\n",
    "            print(\"Number is prime\")"
   ]
  },
  {
   "cell_type": "code",
   "execution_count": 4,
   "id": "d44b2f1b",
   "metadata": {},
   "outputs": [
    {
     "name": "stdout",
     "output_type": "stream",
     "text": [
      "Number is prime\n"
     ]
    }
   ],
   "source": [
    "Prime_or_composite(17)                                 #Calling the function"
   ]
  },
  {
   "cell_type": "code",
   "execution_count": 5,
   "id": "9c12cd18",
   "metadata": {},
   "outputs": [
    {
     "name": "stdout",
     "output_type": "stream",
     "text": [
      "Enter a positive number 6\n",
      "Number is composite\n"
     ]
    }
   ],
   "source": [
    "#Approach 2: Taking input from user\n",
    "\n",
    "num = int(input(\"Enter a positive number \"))\n",
    "\n",
    "if (num < 0) or (type(num) != int):                        #Restricting entry of negative numbers and non integer values\n",
    "    print(\"Please enter a positive integer\")\n",
    "        \n",
    "elif (num == 0) or (num == 1):\n",
    "    print(\"The number is neither prime nor composite\")\n",
    "\n",
    "else:\n",
    "    for i in range (2,num):                               #i taking values from 2 to num-1\n",
    "        if num%i == 0:                                    # modulus function will fetch remainder as 0 if divisible\n",
    "            print(\"Number is composite\")\n",
    "            break;\n",
    "    else:\n",
    "        print(\"Number is prime\")"
   ]
  }
 ],
 "metadata": {
  "kernelspec": {
   "display_name": "Python 3",
   "language": "python",
   "name": "python3"
  },
  "language_info": {
   "codemirror_mode": {
    "name": "ipython",
    "version": 3
   },
   "file_extension": ".py",
   "mimetype": "text/x-python",
   "name": "python",
   "nbconvert_exporter": "python",
   "pygments_lexer": "ipython3",
   "version": "3.8.8"
  }
 },
 "nbformat": 4,
 "nbformat_minor": 5
}
