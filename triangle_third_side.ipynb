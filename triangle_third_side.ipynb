{
 "cells": [
  {
   "cell_type": "code",
   "execution_count": 2,
   "id": "ccd88749",
   "metadata": {},
   "outputs": [],
   "source": [
    "#Approach 1:\n",
    "\n",
    "def third_side(opp,base,hyp):                          #defining the function\n",
    "    \n",
    "    if (opp == 'x'):                                   #if opposite side is unknown\n",
    "        opp = (hyp**2 - base**2)**0.5\n",
    "        print(\"The unknown third side x = \",opp)\n",
    "    \n",
    "    elif (base == 'x'):                                #if base side is unknown\n",
    "        base = (hyp**2 - opp**2)**0.5\n",
    "        print(\"The unknown third side x = \",base)\n",
    "          \n",
    "    elif (hyp == 'x'):                                 #if hypotenuse side is unknown\n",
    "        hyp = (opp**2 +  base**2)**0.5\n",
    "        print(\"The unknown third side x = \",hyp)\n",
    "        \n",
    "    else:                                             #if all 3 sides are known\n",
    "        print('You already know the third side') "
   ]
  },
  {
   "cell_type": "code",
   "execution_count": 4,
   "id": "9e0ae948",
   "metadata": {},
   "outputs": [
    {
     "name": "stdout",
     "output_type": "stream",
     "text": [
      "The unknown third side x =  5.0\n"
     ]
    }
   ],
   "source": [
    "third_side(3,4,'x')                                   #calling the function"
   ]
  },
  {
   "cell_type": "code",
   "execution_count": null,
   "id": "db13e19c",
   "metadata": {},
   "outputs": [],
   "source": [
    "#Approach 2: Taking inputs from user\n",
    "\n",
    "opp = float(input('Note: If unknown enter 0\\n\\nEnter opposite side length or height '))\n",
    "base = float(input('Enter base side length '))\n",
    "hyp = float(input('Enter hypotenuse length '))\n",
    "\n",
    "if (opp == 0):                                       #if opposite side is unknown\n",
    "    opp = (hyp**2 - base**2)**0.5\n",
    "    print(\"The unknown third side x = \",opp)\n",
    "    \n",
    "elif (base == 0):                                    #if base side is unknown\n",
    "    base = (hyp**2 - opp**2)**0.5\n",
    "    print(\"The unknown third side x = \",base)\n",
    "        \n",
    "elif (hyp == 0):                                     #if hypotenuse side is unknown\n",
    "    hyp = (opp**2 +  base**2)**0.5\n",
    "    print(\"The unknown third side length =\", hyp)\n",
    "        \n",
    "else:                                                #if all 3 sides are known\n",
    "    print('You already know the third side')"
   ]
  }
 ],
 "metadata": {
  "kernelspec": {
   "display_name": "Python 3",
   "language": "python",
   "name": "python3"
  },
  "language_info": {
   "codemirror_mode": {
    "name": "ipython",
    "version": 3
   },
   "file_extension": ".py",
   "mimetype": "text/x-python",
   "name": "python",
   "nbconvert_exporter": "python",
   "pygments_lexer": "ipython3",
   "version": "3.8.8"
  }
 },
 "nbformat": 4,
 "nbformat_minor": 5
}
